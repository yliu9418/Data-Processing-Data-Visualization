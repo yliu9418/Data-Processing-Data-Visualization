{
 "cells": [
  {
   "cell_type": "markdown",
   "metadata": {},
   "source": [
    "# CSE-805  Machine Learning and Data Mining   Project  Name: Yang Liu\n"
   ]
  },
  {
   "cell_type": "code",
   "execution_count": null,
   "metadata": {},
   "outputs": [],
   "source": [
    "# load and summarize the dataset\n",
    "from matplotlib import pyplot\n",
    "from pandas import read_csv\n",
    "filename = \"xAPI-Edu-Data.csv\"\n",
    "names = ['gender', 'NationalITy', 'PlaceofBirth', 'StageID', 'GradeID', 'SectionID', 'Topic',\n",
    "         'Semester', 'Relation', 'raisedhands', 'VisITedResources', 'AnnouncementsView', 'Discussion',  \n",
    "         'ParentAnsweringSurvey', 'ParentschoolSatisfaction', 'StudentAbsenceDays', 'Class']\n",
    "data = read_csv(filename, names=names)\n",
    "data = data.drop(0)\n",
    "print(data.shape)\n",
    "print(data.head(10))"
   ]
  },
  {
   "cell_type": "code",
   "execution_count": null,
   "metadata": {},
   "outputs": [],
   "source": [
    "data.isnull().sum()"
   ]
  },
  {
   "cell_type": "code",
   "execution_count": null,
   "metadata": {},
   "outputs": [],
   "source": [
    "print(data.info())"
   ]
  },
  {
   "cell_type": "code",
   "execution_count": null,
   "metadata": {},
   "outputs": [],
   "source": [
    "print(data.describe())"
   ]
  },
  {
   "cell_type": "code",
   "execution_count": null,
   "metadata": {},
   "outputs": [],
   "source": [
    "for i in range(1,17):\n",
    "    print(data.iloc[:,i].value_counts())\n",
    "    print(\"*\"*30)"
   ]
  },
  {
   "cell_type": "code",
   "execution_count": null,
   "metadata": {},
   "outputs": [],
   "source": [
    "print(\"The Unique Values of Gender: \", data[\"gender\"].unique())\n",
    "print(\"The Unique Values of NationalITy: \", data[\"NationalITy\"].unique())\n",
    "print(\"The Unique Values of PlaceofBirth: \", data[\"PlaceofBirth\"].unique())\n",
    "print(\"The Unique Values of StageID: \", data[\"StageID\"].unique())\n",
    "print(\"The Unique Values of GradeID: \", data[\"GradeID\"].unique())\n",
    "print(\"The Unique Values of SectionID: \", data[\"SectionID\"].unique())\n",
    "print(\"The Unique Values of Topic: \", data[\"Topic\"].unique())\n",
    "print(\"The Unique Values of Semester: \", data[\"Semester\"].unique())\n",
    "print(\"The Unique Values of Relation: \", data[\"Relation\"].unique()) \n",
    "print(\"The Unique Values of ParentAnsweringSurvey: \", data[\"ParentAnsweringSurvey\"].unique())\n",
    "print(\"The Unique Values of ParentschoolSatisfaction: \", data[\"ParentschoolSatisfaction\"].unique())\n",
    "print(\"The Unique Values of StudentAbsenceDays: \", data[\"StudentAbsenceDays\"].unique())\n",
    "print(\"The Unique Values of  Class: \", data[\"Class\"].unique())"
   ]
  },
  {
   "cell_type": "code",
   "execution_count": null,
   "metadata": {},
   "outputs": [],
   "source": [
    "replace_map = {'gender': {'F': 1, 'M': 2}}\n",
    "replace_map1 = {'NationalITy': {'Egypt': 1, 'Iran': 2, 'Iraq': 3, 'Jordan': 4, 'KW':5,'Lybia': 6, 'Morocco': 7, 'Palestine': 8 , 'SaudiArabia': 9 , 'Syria': 10,'Tunis': 11,'USA': 12,'lebanon': 13,'venzuela': 14}}\n",
    "replace_map2 = {'PlaceofBirth': {'Egypt': 1, 'Iran': 2, 'Iraq': 3, 'Jordan': 4, 'KuwaIT':5,'Lybia': 6, 'Morocco': 7, 'Palestine': 8 , 'SaudiArabia': 9 , 'Syria': 10,'Tunis': 11,'USA': 12,'lebanon': 13,'venzuela': 14}}\n",
    "replace_map3 = {'StageID': {'HighSchool': 1, 'MiddleSchool': 2, 'lowerlevel': 3}}\n",
    "replace_map4 = {'GradeID': {'G-02':1,'G-04':2, 'G-05':3,'G-06':4,'G-07':5,'G-08':6,'G-09':7,'G-10':8,'G-11':9,'G-12':10}}\n",
    "replace_map5 = {'SectionID': {'A': 1, 'B': 2, 'C': 3}}\n",
    "replace_map6 = {'Topic': {'Arabic': 1, 'Biology': 2, 'Chemistry': 3, 'English': 4, 'French':5,'Geology': 6, 'History': 7, 'IT': 8 , 'Math': 9 , 'Quran': 10,'Science': 11,'Spanish': 12}}\n",
    "replace_map7 = {'Semester': {'F': 1, 'S': 2}}\n",
    "replace_map8 = {'Relation': {'Father': 1, 'Mum': 2}}\n",
    "replace_map9 = {'ParentAnsweringSurvey': {'Yes': 1, 'No': 2}}\n",
    "replace_map10 = {'ParentschoolSatisfaction': {'Bad': 1, 'Good': 2}}\n",
    "replace_map11 = {'StudentAbsenceDays': {'Above-7': 1, 'Under-7': 2}}\n",
    "replace_map12 = {'Class': {'M': 1, 'L': 2,'H':3}}"
   ]
  },
  {
   "cell_type": "code",
   "execution_count": null,
   "metadata": {},
   "outputs": [],
   "source": [
    "data.replace(replace_map,inplace=True)\n",
    "data.replace(replace_map1,inplace=True)\n",
    "data.replace(replace_map2,inplace=True)\n",
    "data.replace(replace_map3,inplace=True)\n",
    "data.replace(replace_map4,inplace=True)\n",
    "data.replace(replace_map5,inplace=True)\n",
    "data.replace(replace_map6,inplace=True)\n",
    "data.replace(replace_map7,inplace=True)\n",
    "data.replace(replace_map8,inplace=True)\n",
    "data.replace(replace_map9,inplace=True)\n",
    "data.replace(replace_map10,inplace=True)\n",
    "data.replace(replace_map11,inplace=True)\n",
    "data.replace(replace_map12,inplace=True)"
   ]
  },
  {
   "cell_type": "code",
   "execution_count": null,
   "metadata": {},
   "outputs": [],
   "source": [
    "data.head()"
   ]
  },
  {
   "cell_type": "code",
   "execution_count": null,
   "metadata": {},
   "outputs": [],
   "source": [
    "# numerical the gender\n",
    "dataset = data.loc[:, ['gender','raisedhands', 'VisITedResources', 'AnnouncementsView', 'Discussion']]\n",
    "dataset.gender = [1 if i == \"M\" else 0 for i in dataset.gender]\n",
    "#dataset.head()\n",
    "#df = dataset.drop(0)\n",
    "print(dataset)"
   ]
  },
  {
   "cell_type": "markdown",
   "metadata": {},
   "source": [
    "Data Visualization \n",
    "visualizing categorical features with numerical features"
   ]
  },
  {
   "cell_type": "code",
   "execution_count": null,
   "metadata": {},
   "outputs": [],
   "source": [
    "from pandas.plotting import scatter_matrix\n",
    "df =  read_csv('xAPI-Edu-Data.csv')\n",
    "dataset = df.loc[:, ['gender', 'raisedhands', 'VisITedResources', 'AnnouncementsView', 'Discussion']]\n",
    "dataset.gender = [1 if i == \"M\" else 0 for i in dataset.gender]\n",
    "df_new = dataset[['gender', 'raisedhands', 'VisITedResources', 'AnnouncementsView', 'Discussion']]\n",
    "scatter_matrix(df_new,alpha=0.5,figsize=(9,9));"
   ]
  },
  {
   "cell_type": "code",
   "execution_count": null,
   "metadata": {},
   "outputs": [],
   "source": [
    "df_new.plot(kind='density', subplots=True, layout=(2,3), sharex=False) \n",
    "pyplot.rcParams[\"figure.figsize\"] = 10,10\n",
    "pyplot.show()"
   ]
  },
  {
   "cell_type": "code",
   "execution_count": null,
   "metadata": {},
   "outputs": [],
   "source": [
    "df_new.hist()\n",
    "pyplot.rcParams[\"figure.figsize\"] = 9,9\n",
    "pyplot.show()"
   ]
  },
  {
   "cell_type": "code",
   "execution_count": null,
   "metadata": {},
   "outputs": [],
   "source": [
    "df_new.plot(kind='box', subplots=True, layout=(2,3), sharex=False, sharey=False) \n",
    "pyplot.rcParams[\"figure.figsize\"] = 9,9\n",
    "pyplot.show()"
   ]
  },
  {
   "cell_type": "code",
   "execution_count": null,
   "metadata": {},
   "outputs": [],
   "source": [
    "import numpy\n",
    "correlations = df_new.corr()\n",
    "# plot correlation matrix\n",
    "names = ['gender', 'raisedhands', 'VisITedResources', 'AnnouncementsView', 'Discussion']\n",
    "fig = pyplot.figure()\n",
    "ax = fig.add_subplot(111)\n",
    "cax = ax.matshow(correlations, vmin=-1, vmax=1)\n",
    "fig.colorbar(cax)\n",
    "ticks = numpy.arange(0,5,1)\n",
    "ax.set_xticks(ticks)\n",
    "ax.set_yticks(ticks)\n",
    "ax.set_xticklabels(names)\n",
    "ax.set_yticklabels(names)\n",
    "pyplot.show()"
   ]
  },
  {
   "cell_type": "code",
   "execution_count": null,
   "metadata": {},
   "outputs": [],
   "source": [
    "from sklearn import preprocessing, svm  \n",
    "from matplotlib import pyplot\n",
    "from pandas import read_csv\n",
    "filename = \"xAPI-Edu-Data.csv\"\n",
    "names = ['gender', 'NationalITy', 'PlaceofBirth', 'StageID', 'GradeID', 'SectionID', 'Topic',\n",
    "         'Semester', 'Relation', 'raisedhands', 'VisITedResources', 'AnnouncementsView', 'Discussion',  \n",
    "         'ParentAnsweringSurvey', 'ParentschoolSatisfaction', 'StudentAbsenceDays', 'Class']\n",
    "data = read_csv(filename, names=names)\n",
    "\n",
    "# Translate GradeID from categorical to numerical\n",
    "gradeID_dict = {\"G-01\" : 1,\n",
    "                \"G-02\" : 2,\n",
    "                \"G-03\" : 3,\n",
    "                \"G-04\" : 4,\n",
    "                \"G-05\" : 5,\n",
    "                \"G-06\" : 6,\n",
    "                \"G-07\" : 7,\n",
    "                \"G-08\" : 8,\n",
    "                \"G-09\" : 9,\n",
    "                \"G-10\" : 10,\n",
    "                \"G-11\" : 11,\n",
    "                \"G-12\" : 12}\n",
    "\n",
    "data = data.replace({\"GradeID\" : gradeID_dict})\n",
    "\n",
    "class_dict = {\"L\" : -1,\n",
    "                \"M\" : 0,\n",
    "                \"H\" : 1}\n",
    "data = data.replace({\"Class\" : class_dict})\n",
    "\n",
    "# Scale numerical fields\n",
    "data[\"GradeID\"] = preprocessing.scale(data[\"GradeID\"])\n",
    "data[\"raisedhands\"] = preprocessing.scale(data[\"raisedhands\"])\n",
    "data[\"VisITedResources\"] = preprocessing.scale(data[\"VisITedResources\"])\n",
    "data[\"AnnouncementsView\"] = preprocessing.scale(data[\"AnnouncementsView\"])\n",
    "data[\"Discussion\"] = preprocessing.scale(data[\"Discussion\"])\n",
    "\n",
    "# Use dummy variables for categorical fields\n",
    "data = pd.get_dummies(data, columns=[\"gender\",\n",
    "                                     \"NationalITy\",\n",
    "                                     \"PlaceofBirth\",\n",
    "                                     \"SectionID\",\n",
    "                                     \"StageID\",\n",
    "                                     \"Topic\",\n",
    "                                     \"Semester\",\n",
    "                                     \"Relation\",\n",
    "                                     \"ParentAnsweringSurvey\",\n",
    "                                     \"ParentschoolSatisfaction\",\n",
    "                                     \"StudentAbsenceDays\"])\n",
    "\n",
    "# Show preprocessed data\n",
    "data.head()"
   ]
  },
  {
   "cell_type": "code",
   "execution_count": null,
   "metadata": {},
   "outputs": [],
   "source": []
  }
 ],
 "metadata": {
  "kernelspec": {
   "display_name": "Python 3",
   "language": "python",
   "name": "python3"
  },
  "language_info": {
   "codemirror_mode": {
    "name": "ipython",
    "version": 3
   },
   "file_extension": ".py",
   "mimetype": "text/x-python",
   "name": "python",
   "nbconvert_exporter": "python",
   "pygments_lexer": "ipython3",
   "version": "3.7.4"
  },
  "widgets": {
   "application/vnd.jupyter.widget-state+json": {
    "state": {},
    "version_major": 2,
    "version_minor": 0
   }
  }
 },
 "nbformat": 4,
 "nbformat_minor": 2
}
